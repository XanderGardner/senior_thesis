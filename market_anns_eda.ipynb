{
 "cells": [
  {
   "cell_type": "code",
   "execution_count": 3,
   "metadata": {},
   "outputs": [],
   "source": [
    "import csv\n",
    "# %pip install pandas_market_calendars\n",
    "import pandas_market_calendars as mcal\n",
    "from datetime import datetime\n",
    "from collections import defaultdict\n",
    "import pickle\n",
    "\n",
    "\n",
    "\n",
    "# given a string date in the form \"2023-02-14\"\n",
    "# given a string time in the form \"13:05:00\"\n",
    "# returns if the date and time is during market open (9:30 to 4:00)\n",
    "nyse = mcal.get_calendar('XNYS')\n",
    "def is_market_open(date_str, time_str):\n",
    "  a = time_str.split(\":\")\n",
    "  if len(a) != 3:\n",
    "    return False\n",
    "  \n",
    "  # get hr and min\n",
    "  try:\n",
    "    hr = int(a[0])\n",
    "    min = int(a[1])\n",
    "  except ValueError:\n",
    "    return False\n",
    "  \n",
    "  # keep only (10:00 to 15:30)\n",
    "  if hr <= 9 or hr >= 16:\n",
    "    return False\n",
    "  elif hr == 15 and min >= 30:\n",
    "    return False\n",
    "  \n",
    "  # check that the market is open on this day\n",
    "  date = datetime.strptime(date_str, \"%Y-%m-%d\")\n",
    "  is_trading_day = nyse.valid_days(start_date=date, end_date=date).size > 0\n",
    "  return is_trading_day\n",
    "\n",
    "\n",
    "\n",
    "### load the market_anns_map from using pickle\n",
    "def load_market_anns_map(market_anns_file_name):\n",
    "  with open(market_anns_file_name, \"rb\") as file:\n",
    "    wrds_market_anns_map = pickle.load(file)\n",
    "  return wrds_market_anns_map\n",
    "market_anns_map_file_name = \"./market_anns_storage/market_anns_map.pkl\"\n",
    "wrds_market_anns_map = load_market_anns_map(market_anns_map_file_name) \n",
    "\n",
    "\n",
    "\n",
    "### uses all_announcements.csv to make:\n",
    "# all_anns: list of lists holding the ticker, anndat, and anntim\n",
    "# market_anns: list of list holding the ticker, anndat, and anntim for annoucements during market hours \n",
    "all_anns = []\n",
    "market_anns = []\n",
    "with open(\"./raw_data/all_announcements.csv\") as file:\n",
    "  # TICKER,OFTIC,MEASURE,PDICITY,ANNDATS,ANNTIMS\n",
    "  csv_reader = csv.reader(file)\n",
    "  \n",
    "  for i,row in enumerate(csv_reader):\n",
    "    if i == 0:\n",
    "      continue\n",
    "\n",
    "    _, ticker, _, _, anndat, anntim = row\n",
    "    all_anns += [[ticker, anndat, anntim]]  \n",
    "    if is_market_open(anndat, anntim) and len(ticker) > 0:\n",
    "      market_anns += [[ticker, anndat, anntim]]  \n",
    "\n",
    "# output the date range of the announcements\n",
    "earliest_date = market_anns[0][1]\n",
    "latest_date = market_anns[0][1]\n",
    "for _, anndat, _ in market_anns:\n",
    "  earliest_date = min(earliest_date, anndat)\n",
    "  latest_date = max(latest_date, anndat)"
   ]
  },
  {
   "cell_type": "code",
   "execution_count": 8,
   "metadata": {},
   "outputs": [
    {
     "name": "stdout",
     "output_type": "stream",
     "text": [
      "range of dates that have annoucements during market hours: 2005-01-03 to 2023-09-14\n",
      "total number of annoucements: 442234\n",
      "total number of annoucements during market hours: 35394\n",
      "percent of annoucements that are during market hours: 8.003455184359412%\n"
     ]
    }
   ],
   "source": [
    "print(f\"range of dates that have annoucements during market hours: {earliest_date} to {latest_date}\") \n",
    "print(f\"total number of annoucements: {len(all_anns)}\")\n",
    "print(f\"total number of annoucements during market hours: {len(market_anns)}\")\n",
    "print(f\"percent of annoucements that are during market hours: {len(market_anns)/len(all_anns)*100}%\")"
   ]
  },
  {
   "cell_type": "code",
   "execution_count": null,
   "metadata": {},
   "outputs": [],
   "source": []
  }
 ],
 "metadata": {
  "kernelspec": {
   "display_name": "Python 3",
   "language": "python",
   "name": "python3"
  },
  "language_info": {
   "codemirror_mode": {
    "name": "ipython",
    "version": 3
   },
   "file_extension": ".py",
   "mimetype": "text/x-python",
   "name": "python",
   "nbconvert_exporter": "python",
   "pygments_lexer": "ipython3",
   "version": "3.9.15"
  },
  "orig_nbformat": 4
 },
 "nbformat": 4,
 "nbformat_minor": 2
}
